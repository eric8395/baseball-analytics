{
 "cells": [
  {
   "cell_type": "code",
   "execution_count": null,
   "id": "528be088",
   "metadata": {},
   "outputs": [
    {
     "name": "stdout",
     "output_type": "stream",
     "text": [
      "Found existing installation: Werkzeug 2.0.0\r\n",
      "Uninstalling Werkzeug-2.0.0:\r\n",
      "  Would remove:\r\n",
      "    /Users/eric/miniforge3/envs/tf_miniforge/lib/python3.10/site-packages/Werkzeug-2.0.0.dist-info/*\r\n",
      "    /Users/eric/miniforge3/envs/tf_miniforge/lib/python3.10/site-packages/werkzeug/*\r\n",
      "Proceed (Y/n)? "
     ]
    }
   ],
   "source": [
    "pip uninstall werkzeug"
   ]
  },
  {
   "cell_type": "code",
   "execution_count": 1,
   "id": "a4d89599",
   "metadata": {},
   "outputs": [
    {
     "ename": "TypeError",
     "evalue": "LocalProxy.__init__() got an unexpected keyword argument 'unbound_message'",
     "output_type": "error",
     "traceback": [
      "\u001b[0;31m---------------------------------------------------------------------------\u001b[0m",
      "\u001b[0;31mTypeError\u001b[0m                                 Traceback (most recent call last)",
      "Input \u001b[0;32mIn [1]\u001b[0m, in \u001b[0;36m<cell line: 1>\u001b[0;34m()\u001b[0m\n\u001b[0;32m----> 1\u001b[0m \u001b[38;5;28;01mfrom\u001b[39;00m \u001b[38;5;21;01mdash\u001b[39;00m \u001b[38;5;28;01mimport\u001b[39;00m Dash, html, dcc\n\u001b[1;32m      2\u001b[0m \u001b[38;5;28;01mimport\u001b[39;00m \u001b[38;5;21;01mplotly\u001b[39;00m\u001b[38;5;21;01m.\u001b[39;00m\u001b[38;5;21;01mexpress\u001b[39;00m \u001b[38;5;28;01mas\u001b[39;00m \u001b[38;5;21;01mpx\u001b[39;00m\n\u001b[1;32m      3\u001b[0m \u001b[38;5;28;01mimport\u001b[39;00m \u001b[38;5;21;01mpandas\u001b[39;00m \u001b[38;5;28;01mas\u001b[39;00m \u001b[38;5;21;01mpd\u001b[39;00m\n",
      "File \u001b[0;32m~/miniforge3/envs/tf_miniforge/lib/python3.10/site-packages/dash/__init__.py:5\u001b[0m, in \u001b[0;36m<module>\u001b[0;34m\u001b[0m\n\u001b[1;32m      1\u001b[0m \u001b[38;5;66;03m# pylint: disable=C0413\u001b[39;00m\n\u001b[1;32m      2\u001b[0m \u001b[38;5;66;03m# __plotly_dash is for the \"make sure you don't have a dash.py\" check\u001b[39;00m\n\u001b[1;32m      3\u001b[0m \u001b[38;5;66;03m# must come before any other imports.\u001b[39;00m\n\u001b[1;32m      4\u001b[0m __plotly_dash \u001b[38;5;241m=\u001b[39m \u001b[38;5;28;01mTrue\u001b[39;00m\n\u001b[0;32m----> 5\u001b[0m \u001b[38;5;28;01mfrom\u001b[39;00m \u001b[38;5;21;01m.\u001b[39;00m\u001b[38;5;21;01mdash\u001b[39;00m \u001b[38;5;28;01mimport\u001b[39;00m Dash, no_update  \u001b[38;5;66;03m# noqa: F401,E402\u001b[39;00m\n\u001b[1;32m      6\u001b[0m \u001b[38;5;28;01mfrom\u001b[39;00m \u001b[38;5;21;01m.\u001b[39;00m\u001b[38;5;21;01mdependencies\u001b[39;00m \u001b[38;5;28;01mimport\u001b[39;00m (  \u001b[38;5;66;03m# noqa: F401,E402\u001b[39;00m\n\u001b[1;32m      7\u001b[0m     Input,  \u001b[38;5;66;03m# noqa: F401,E402\u001b[39;00m\n\u001b[1;32m      8\u001b[0m     Output,  \u001b[38;5;66;03m# noqa: F401,E402\u001b[39;00m\n\u001b[0;32m   (...)\u001b[0m\n\u001b[1;32m     13\u001b[0m     ALLSMALLER,  \u001b[38;5;66;03m# noqa: F401,E402\u001b[39;00m\n\u001b[1;32m     14\u001b[0m )  \u001b[38;5;66;03m# noqa: F401,E402\u001b[39;00m\n\u001b[1;32m     15\u001b[0m \u001b[38;5;28;01mfrom\u001b[39;00m \u001b[38;5;21;01m.\u001b[39;00m \u001b[38;5;28;01mimport\u001b[39;00m development  \u001b[38;5;66;03m# noqa: F401,E402\u001b[39;00m\n",
      "File \u001b[0;32m~/miniforge3/envs/tf_miniforge/lib/python3.10/site-packages/dash/dash.py:16\u001b[0m, in \u001b[0;36m<module>\u001b[0;34m\u001b[0m\n\u001b[1;32m     13\u001b[0m \u001b[38;5;28;01mimport\u001b[39;00m \u001b[38;5;21;01mbase64\u001b[39;00m\n\u001b[1;32m     14\u001b[0m \u001b[38;5;28;01mfrom\u001b[39;00m \u001b[38;5;21;01murllib\u001b[39;00m\u001b[38;5;21;01m.\u001b[39;00m\u001b[38;5;21;01mparse\u001b[39;00m \u001b[38;5;28;01mimport\u001b[39;00m urlparse\n\u001b[0;32m---> 16\u001b[0m \u001b[38;5;28;01mimport\u001b[39;00m \u001b[38;5;21;01mflask\u001b[39;00m\n\u001b[1;32m     17\u001b[0m \u001b[38;5;28;01mfrom\u001b[39;00m \u001b[38;5;21;01mflask_compress\u001b[39;00m \u001b[38;5;28;01mimport\u001b[39;00m Compress\n\u001b[1;32m     18\u001b[0m \u001b[38;5;28;01mfrom\u001b[39;00m \u001b[38;5;21;01mwerkzeug\u001b[39;00m\u001b[38;5;21;01m.\u001b[39;00m\u001b[38;5;21;01mdebug\u001b[39;00m\u001b[38;5;21;01m.\u001b[39;00m\u001b[38;5;21;01mtbtools\u001b[39;00m \u001b[38;5;28;01mimport\u001b[39;00m get_current_traceback\n",
      "File \u001b[0;32m~/miniforge3/envs/tf_miniforge/lib/python3.10/site-packages/flask/__init__.py:4\u001b[0m, in \u001b[0;36m<module>\u001b[0;34m\u001b[0m\n\u001b[1;32m      1\u001b[0m \u001b[38;5;28;01mfrom\u001b[39;00m \u001b[38;5;21;01mmarkupsafe\u001b[39;00m \u001b[38;5;28;01mimport\u001b[39;00m escape\n\u001b[1;32m      2\u001b[0m \u001b[38;5;28;01mfrom\u001b[39;00m \u001b[38;5;21;01mmarkupsafe\u001b[39;00m \u001b[38;5;28;01mimport\u001b[39;00m Markup\n\u001b[0;32m----> 4\u001b[0m \u001b[38;5;28;01mfrom\u001b[39;00m \u001b[38;5;21;01m.\u001b[39;00m \u001b[38;5;28;01mimport\u001b[39;00m json \u001b[38;5;28;01mas\u001b[39;00m json\n\u001b[1;32m      5\u001b[0m \u001b[38;5;28;01mfrom\u001b[39;00m \u001b[38;5;21;01m.\u001b[39;00m\u001b[38;5;21;01mapp\u001b[39;00m \u001b[38;5;28;01mimport\u001b[39;00m Flask \u001b[38;5;28;01mas\u001b[39;00m Flask\n\u001b[1;32m      6\u001b[0m \u001b[38;5;28;01mfrom\u001b[39;00m \u001b[38;5;21;01m.\u001b[39;00m\u001b[38;5;21;01mapp\u001b[39;00m \u001b[38;5;28;01mimport\u001b[39;00m Request \u001b[38;5;28;01mas\u001b[39;00m Request\n",
      "File \u001b[0;32m~/miniforge3/envs/tf_miniforge/lib/python3.10/site-packages/flask/json/__init__.py:8\u001b[0m, in \u001b[0;36m<module>\u001b[0;34m\u001b[0m\n\u001b[1;32m      4\u001b[0m \u001b[38;5;28;01mimport\u001b[39;00m \u001b[38;5;21;01mtyping\u001b[39;00m \u001b[38;5;28;01mas\u001b[39;00m \u001b[38;5;21;01mt\u001b[39;00m\n\u001b[1;32m      6\u001b[0m \u001b[38;5;28;01mfrom\u001b[39;00m \u001b[38;5;21;01mjinja2\u001b[39;00m\u001b[38;5;21;01m.\u001b[39;00m\u001b[38;5;21;01mutils\u001b[39;00m \u001b[38;5;28;01mimport\u001b[39;00m htmlsafe_json_dumps \u001b[38;5;28;01mas\u001b[39;00m _jinja_htmlsafe_dumps\n\u001b[0;32m----> 8\u001b[0m \u001b[38;5;28;01mfrom\u001b[39;00m \u001b[38;5;21;01m.\u001b[39;00m\u001b[38;5;21;01m.\u001b[39;00m\u001b[38;5;21;01mglobals\u001b[39;00m \u001b[38;5;28;01mimport\u001b[39;00m current_app\n\u001b[1;32m      9\u001b[0m \u001b[38;5;28;01mfrom\u001b[39;00m \u001b[38;5;21;01m.\u001b[39;00m\u001b[38;5;21;01mprovider\u001b[39;00m \u001b[38;5;28;01mimport\u001b[39;00m _default\n\u001b[1;32m     11\u001b[0m \u001b[38;5;28;01mif\u001b[39;00m t\u001b[38;5;241m.\u001b[39mTYPE_CHECKING:  \u001b[38;5;66;03m# pragma: no cover\u001b[39;00m\n",
      "File \u001b[0;32m~/miniforge3/envs/tf_miniforge/lib/python3.10/site-packages/flask/globals.py:56\u001b[0m, in \u001b[0;36m<module>\u001b[0;34m\u001b[0m\n\u001b[1;32m     54\u001b[0m _cv_app: ContextVar[\u001b[38;5;124m\"\u001b[39m\u001b[38;5;124mAppContext\u001b[39m\u001b[38;5;124m\"\u001b[39m] \u001b[38;5;241m=\u001b[39m ContextVar(\u001b[38;5;124m\"\u001b[39m\u001b[38;5;124mflask.app_ctx\u001b[39m\u001b[38;5;124m\"\u001b[39m)\n\u001b[1;32m     55\u001b[0m __app_ctx_stack \u001b[38;5;241m=\u001b[39m _FakeStack(\u001b[38;5;124m\"\u001b[39m\u001b[38;5;124mapp\u001b[39m\u001b[38;5;124m\"\u001b[39m, _cv_app)\n\u001b[0;32m---> 56\u001b[0m app_ctx: \u001b[38;5;124m\"\u001b[39m\u001b[38;5;124mAppContext\u001b[39m\u001b[38;5;124m\"\u001b[39m \u001b[38;5;241m=\u001b[39m \u001b[43mLocalProxy\u001b[49m\u001b[43m(\u001b[49m\u001b[43m  \u001b[49m\u001b[38;5;66;43;03m# type: ignore[assignment]\u001b[39;49;00m\n\u001b[1;32m     57\u001b[0m \u001b[43m    \u001b[49m\u001b[43m_cv_app\u001b[49m\u001b[43m,\u001b[49m\u001b[43m \u001b[49m\u001b[43munbound_message\u001b[49m\u001b[38;5;241;43m=\u001b[39;49m\u001b[43m_no_app_msg\u001b[49m\n\u001b[1;32m     58\u001b[0m \u001b[43m)\u001b[49m\n\u001b[1;32m     59\u001b[0m current_app: \u001b[38;5;124m\"\u001b[39m\u001b[38;5;124mFlask\u001b[39m\u001b[38;5;124m\"\u001b[39m \u001b[38;5;241m=\u001b[39m LocalProxy(  \u001b[38;5;66;03m# type: ignore[assignment]\u001b[39;00m\n\u001b[1;32m     60\u001b[0m     _cv_app, \u001b[38;5;124m\"\u001b[39m\u001b[38;5;124mapp\u001b[39m\u001b[38;5;124m\"\u001b[39m, unbound_message\u001b[38;5;241m=\u001b[39m_no_app_msg\n\u001b[1;32m     61\u001b[0m )\n\u001b[1;32m     62\u001b[0m g: \u001b[38;5;124m\"\u001b[39m\u001b[38;5;124m_AppCtxGlobals\u001b[39m\u001b[38;5;124m\"\u001b[39m \u001b[38;5;241m=\u001b[39m LocalProxy(  \u001b[38;5;66;03m# type: ignore[assignment]\u001b[39;00m\n\u001b[1;32m     63\u001b[0m     _cv_app, \u001b[38;5;124m\"\u001b[39m\u001b[38;5;124mg\u001b[39m\u001b[38;5;124m\"\u001b[39m, unbound_message\u001b[38;5;241m=\u001b[39m_no_app_msg\n\u001b[1;32m     64\u001b[0m )\n",
      "\u001b[0;31mTypeError\u001b[0m: LocalProxy.__init__() got an unexpected keyword argument 'unbound_message'"
     ]
    }
   ],
   "source": [
    "from dash import Dash, html, dcc\n",
    "import plotly.express as px\n",
    "import pandas as pd\n",
    "from dash.dependencies import Input, Output, State\n",
    "import dash_bootstrap_components as dbc\n",
    "import numpy as np\n",
    "import pickle\n"
   ]
  },
  {
   "cell_type": "code",
   "execution_count": 2,
   "id": "80786b62",
   "metadata": {},
   "outputs": [
    {
     "ename": "NameError",
     "evalue": "name 'Dash' is not defined",
     "output_type": "error",
     "traceback": [
      "\u001b[0;31m---------------------------------------------------------------------------\u001b[0m",
      "\u001b[0;31mNameError\u001b[0m                                 Traceback (most recent call last)",
      "Input \u001b[0;32mIn [2]\u001b[0m, in \u001b[0;36m<cell line: 1>\u001b[0;34m()\u001b[0m\n\u001b[0;32m----> 1\u001b[0m app \u001b[38;5;241m=\u001b[39m \u001b[43mDash\u001b[49m(\u001b[38;5;18m__name__\u001b[39m)\n\u001b[1;32m      2\u001b[0m app\u001b[38;5;241m.\u001b[39mtitle \u001b[38;5;241m=\u001b[39m \u001b[38;5;124m'\u001b[39m\u001b[38;5;124mMachine Learning Model Deployment\u001b[39m\u001b[38;5;124m'\u001b[39m\n\u001b[1;32m      3\u001b[0m server \u001b[38;5;241m=\u001b[39m app\u001b[38;5;241m.\u001b[39mserver\n",
      "\u001b[0;31mNameError\u001b[0m: name 'Dash' is not defined"
     ]
    }
   ],
   "source": [
    "app = Dash(__name__)\n",
    "app.title = 'Machine Learning Model Deployment'\n",
    "server = app.server"
   ]
  },
  {
   "cell_type": "code",
   "execution_count": null,
   "id": "752db54e",
   "metadata": {},
   "outputs": [],
   "source": [
    "# load model\n",
    "with open('pkl/batting_basic_model.pkl', 'rb') as f:\n",
    "    model = pickle.load(f)"
   ]
  },
  {
   "cell_type": "code",
   "execution_count": null,
   "id": "ba1c1ba2",
   "metadata": {},
   "outputs": [],
   "source": [
    "# App Layout \n",
    "app.layout = html.Div([\n",
    "    dbc.Row([html.H3(children='Predict Batter Salary')]),\n",
    "        dbc.Row([\n",
    "        dbc.Col(html.Label(children='Salary Difference:'), width={\"order\": \"first\"}),\n",
    "        dbc.Col(dcc.Slider(min=0, max=10000000, value = 2000000, id='Salary_Difference')) \n",
    "    ]),\n",
    "    dbc.Row([\n",
    "        dbc.Col(html.Label(children='Age:'), width={\"order\": \"first\"}),\n",
    "        dbc.Col(dcc.Slider(min=20, max=40, value = 28, id='Age')) \n",
    "    ]),\n",
    "    dbc.Row([\n",
    "        dbc.Col(html.Label(children='Hits:'), width={\"order\": \"first\"}),\n",
    "        dbc.Col(dcc.Slider(min=0, max=250,  value = 100, id='H')) \n",
    "    ]),\n",
    "    dbc.Row([\n",
    "        dbc.Col(html.Label(children='Runs:'), width={\"order\": \"first\"}),\n",
    "        dbc.Col(dcc.Slider(min=0, max=250,  value = 50, id='R')) \n",
    "    ]),\n",
    "    dbc.Row([\n",
    "        dbc.Col(html.Label(children='RBIs:'), width={\"order\": \"first\"}),\n",
    "       dbc.Col( dcc.Slider(min=0, max=150,  value = 50, id='RBI')) \n",
    "    ]),   \n",
    "    dbc.Row([\n",
    "        dbc.Col(html.Label(children='Walks:'), width={\"order\": \"first\"}),\n",
    "       dbc.Col( dcc.Slider(min=0, max=150,  value = 50, id='BB')) \n",
    "    ]), \n",
    "    dbc.Row([\n",
    "        dbc.Col(html.Label(children='Srikeouts:'), width={\"order\": \"first\"}),\n",
    "       dbc.Col( dcc.Slider(min=0, max=250,  value = 50, id='SO')) \n",
    "    ]), \n",
    "    dbc.Row([\n",
    "        dbc.Col(html.Label(children='Sac Flys:'), width={\"order\": \"first\"}),\n",
    "       dbc.Col( dcc.Slider(min=0, max=20,  value = 3, id='SF')) \n",
    "    ]), \n",
    "    dbc.Row([\n",
    "        dbc.Col(html.Label(children='Sac Hits:'), width={\"order\": \"first\"}),\n",
    "       dbc.Col( dcc.Slider(min=0, max=20,  value = 3, id='SH')) \n",
    "    ]), \n",
    "    dbc.Row([\n",
    "        dbc.Col(html.Label(children='Double Plays:'), width={\"order\": \"first\"}),\n",
    "       dbc.Col( dcc.Slider(min=0, max=20,  value = 5, id='GDP')) \n",
    "    ]), \n",
    "    dbc.Row([\n",
    "        dbc.Col(html.Label(children='Stolen Bases:'), width={\"order\": \"first\"}),\n",
    "       dbc.Col( dcc.Slider(min=0, max=100,  value = 10, id='SB')) \n",
    "    ]), \n",
    "    dbc.Row([\n",
    "        dbc.Col(html.Label(children='OPS:'), width={\"order\": \"first\"}),\n",
    "       dbc.Col( dcc.Slider(min=0, max=1.5,  value = 1.2, id='OPS')) \n",
    "    ]), \n",
    "    dbc.Row([dbc.Button('Submit', id='submit-val', n_clicks=0, color=\"primary\")]),\n",
    "    html.Br(),\n",
    "    dbc.Row([html.Div(id='prediction output')])\n",
    "    \n",
    "    ], style = {'padding': '0px 0px 0px 150px', 'width': '50%'})"
   ]
  },
  {
   "cell_type": "code",
   "execution_count": null,
   "id": "909b975e",
   "metadata": {},
   "outputs": [],
   "source": [
    "### Callback to produce the prediction ######################### \n",
    "@app.callback(\n",
    "    Output('prediction output', 'children'),\n",
    "    Input('submit-val', 'n_clicks'),\n",
    "    State('Salary Difference', 'value'),\n",
    "    State('Age', 'value'),\n",
    "    State('H', 'value'), \n",
    "    State('R', 'value'),\n",
    "    State('RBI', 'value'),\n",
    "    State('BB', 'value'), \n",
    "    State('SO', 'value'),\n",
    "    State('SF', 'value'),\n",
    "    State('SH', 'value'), \n",
    "    State('GDP', 'value'),\n",
    "    State('SB', 'value'),\n",
    "    State('OPS', 'value')\n",
    ")\n",
    "   \n",
    "def update_output(n_clicks, Salary_Difference, Age, H, R, RBI, BB, SO, SF, SH, GDP, SB, OPS):    \n",
    "    x = np.array([[float(Salary_Difference), \n",
    "                   float(Age), \n",
    "                   float(H), \n",
    "                   float(R),\n",
    "                   float(RBI), \n",
    "                   float(BB),\n",
    "                   float(SO), \n",
    "                   float(SF),\n",
    "                   float(SH), \n",
    "                   float(GDP),\n",
    "                   float(SB),\n",
    "                   float(OPS)\n",
    "                  ]])\n",
    "    \n",
    "    prediction =  model.predict(x)[0]\n",
    "    return f'The predicted batter salary is {output}.'"
   ]
  },
  {
   "cell_type": "code",
   "execution_count": null,
   "id": "f5e1e838",
   "metadata": {},
   "outputs": [],
   "source": [
    "### Run the App ###############################################\n",
    "if __name__ == '__main__':\n",
    "    app.run_server(port=8055,\n",
    "                   debug=False)"
   ]
  },
  {
   "cell_type": "code",
   "execution_count": null,
   "id": "b6c48bbb",
   "metadata": {},
   "outputs": [],
   "source": []
  },
  {
   "cell_type": "code",
   "execution_count": null,
   "id": "4175cec8",
   "metadata": {},
   "outputs": [],
   "source": []
  },
  {
   "cell_type": "code",
   "execution_count": null,
   "id": "dd8d110c",
   "metadata": {},
   "outputs": [],
   "source": []
  },
  {
   "cell_type": "code",
   "execution_count": null,
   "id": "6eefd13b",
   "metadata": {},
   "outputs": [],
   "source": []
  },
  {
   "cell_type": "code",
   "execution_count": null,
   "id": "f98ad2ef",
   "metadata": {},
   "outputs": [],
   "source": []
  },
  {
   "cell_type": "code",
   "execution_count": null,
   "id": "ba8faf71",
   "metadata": {},
   "outputs": [],
   "source": []
  },
  {
   "cell_type": "code",
   "execution_count": null,
   "id": "28f0b765",
   "metadata": {},
   "outputs": [],
   "source": []
  },
  {
   "cell_type": "code",
   "execution_count": null,
   "id": "9348b207",
   "metadata": {},
   "outputs": [],
   "source": []
  },
  {
   "cell_type": "code",
   "execution_count": null,
   "id": "b896cd32",
   "metadata": {},
   "outputs": [],
   "source": []
  },
  {
   "cell_type": "code",
   "execution_count": null,
   "id": "247e5c4a",
   "metadata": {},
   "outputs": [],
   "source": []
  },
  {
   "cell_type": "code",
   "execution_count": null,
   "id": "f1288518",
   "metadata": {},
   "outputs": [],
   "source": []
  }
 ],
 "metadata": {
  "kernelspec": {
   "display_name": "Python 3 (ipykernel)",
   "language": "python",
   "name": "python3"
  },
  "language_info": {
   "codemirror_mode": {
    "name": "ipython",
    "version": 3
   },
   "file_extension": ".py",
   "mimetype": "text/x-python",
   "name": "python",
   "nbconvert_exporter": "python",
   "pygments_lexer": "ipython3",
   "version": "3.10.4"
  }
 },
 "nbformat": 4,
 "nbformat_minor": 5
}
